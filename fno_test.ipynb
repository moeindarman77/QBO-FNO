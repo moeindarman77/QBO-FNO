{
 "cells": [
  {
   "cell_type": "code",
   "execution_count": 3,
   "metadata": {},
   "outputs": [
    {
     "name": "stdout",
     "output_type": "stream",
     "text": [
      "dict_keys(['u', 'f', 'flux'])\n",
      "U_250 Data Shape\n",
      "(72001, 73)\n",
      "(72001, 73)\n",
      "(72001, 73)\n",
      "U_500 Data Shape\n",
      "(72001, 37)\n",
      "(72001, 37)\n",
      "(72001, 37)\n"
     ]
    }
   ],
   "source": [
    "import netCDF4 as nc\n",
    "\n",
    "u_250 = nc.Dataset('u_f_flux_true_250m_100yrs.nc')\n",
    "u_500 = nc.Dataset('u_f_flux_true_500m_100yrs.nc')\n",
    "\n",
    "print(u_250.variables.keys())\n",
    "\n",
    "print(\"U_250 Data Shape\")\n",
    "print(u_250['u'].shape)\n",
    "print(u_250['f'].shape)\n",
    "print(u_250['flux'].shape)\n",
    "\n",
    "print(\"U_500 Data Shape\")\n",
    "print(u_500['u'].shape)\n",
    "print(u_500['f'].shape)\n",
    "print(u_500['flux'].shape)\n",
    "\n"
   ]
  },
  {
   "attachments": {},
   "cell_type": "markdown",
   "metadata": {},
   "source": [
    "# Prepare data"
   ]
  },
  {
   "cell_type": "code",
   "execution_count": 4,
   "metadata": {},
   "outputs": [],
   "source": [
    "# Set U_250 as the data\n",
    "data = u_250\n",
    "# Remove the last row and column from u\n",
    "u = data['u'][:-1, 1:-1]\n",
    "# Remove the first row and column from f\n",
    "f = data['f'][1:, 1:-1]\n"
   ]
  },
  {
   "cell_type": "code",
   "execution_count": 21,
   "metadata": {},
   "outputs": [
    {
     "name": "stdout",
     "output_type": "stream",
     "text": [
      "Input Mean:  0.02826505\n",
      "Input Std:  19.371218\n",
      "Output Mean:  9.379327e-09\n",
      "Output Std:  3.0966285e-06\n"
     ]
    }
   ],
   "source": [
    "input_mean = u.mean()\n",
    "input_std = u.std()\n",
    "output_mean = f.mean()\n",
    "output_std = f.std()\n",
    "\n",
    "print(\"Input Mean: \", input_mean)\n",
    "print(\"Input Std: \", input_std)\n",
    "print(\"Output Mean: \", output_mean)\n",
    "print(\"Output Std: \", output_std)"
   ]
  },
  {
   "attachments": {},
   "cell_type": "markdown",
   "metadata": {},
   "source": [
    "# Create Torch Dataset"
   ]
  },
  {
   "cell_type": "code",
   "execution_count": 17,
   "metadata": {},
   "outputs": [
    {
     "name": "stdout",
     "output_type": "stream",
     "text": [
      "0.07815116\n",
      "19.41376\n",
      "1.021492e-08\n",
      "3.0938054e-06\n",
      "Train dataset size: 57600\n",
      "Validation dataset size: 7200\n",
      "Test dataset size: 7200\n"
     ]
    }
   ],
   "source": [
    "import torch\n",
    "\n",
    "# Set the random seed for reproducibility\n",
    "torch.manual_seed(0)\n",
    "\n",
    "# Set the device to be used\n",
    "device = torch.device(\"cuda:0\" if torch.cuda.is_available() else \"cpu\")\n",
    "\n",
    "# Create a torch dataset\n",
    "class FNOData(torch.utils.data.Dataset):\n",
    "    def __init__(self, u, f):\n",
    "        super(FNOData, self).__init__()\n",
    "        self.u = u\n",
    "        self.f = f\n",
    "        self.len = u.shape[0]\n",
    "\n",
    "    def __getitem__(self, index):\n",
    "        return self.u[index], self.f[index]\n",
    "\n",
    "    def __len__(self):\n",
    "        return self.len\n",
    "\n",
    "dataset = FNOData(u, f)\n",
    "\n",
    "# Split the dataset into train and validation sets (not randomly)\n",
    "# Calculate sizes\n",
    "validation_ratio = 0.1  # 10% validation\n",
    "train_ratio = 0.8  # 80% training\n",
    "\n",
    "train_size = int(train_ratio * len(dataset))\n",
    "validation_size = int(validation_ratio * len(dataset))\n",
    "test_size = len(dataset) - train_size - validation_size\n",
    "\n",
    "# Create subsets\n",
    "train_dataset = FNOData(u[:train_size], f[:train_size])\n",
    "validation_dataset = FNOData(u[train_size:train_size + validation_size], f[train_size:train_size + validation_size])\n",
    "test_dataset = FNOData(u[train_size + validation_size:], f[train_size + validation_size:])\n",
    "\n",
    "print(u[:train_size].mean())\n",
    "print(u[:train_size].std())\n",
    "print(f[:train_size].mean())\n",
    "print(f[:train_size].std())\n",
    "\n",
    "print(\"Train dataset size:\", len(train_dataset))\n",
    "print(\"Validation dataset size:\", len(validation_dataset))\n",
    "print(\"Test dataset size:\", len(test_dataset))\n",
    "\n",
    "\n",
    "# train_dataset = torch.utils.data.Subset(dataset, range(0, train_size))\n",
    "# validation_dataset = torch.utils.data.Subset(dataset, range(train_size, train_size + validation_size))\n",
    "# test_dataset = torch.utils.data.Subset(dataset, range(train_size + validation_size, len(dataset)))\n",
    "\n",
    "# Create a dataloader\n",
    "train_dataloader = torch.utils.data.DataLoader(dataset, batch_size=50, shuffle=True)\n",
    "validation_dataloader = torch.utils.data.DataLoader(validation_dataset, batch_size=50, shuffle=True)\n",
    "test_dataloader = torch.utils.data.DataLoader(test_dataset, batch_size=50, shuffle=True)\n"
   ]
  },
  {
   "attachments": {},
   "cell_type": "markdown",
   "metadata": {},
   "source": [
    "# Model"
   ]
  },
  {
   "attachments": {},
   "cell_type": "markdown",
   "metadata": {},
   "source": [
    "## Import Libraries"
   ]
  },
  {
   "cell_type": "code",
   "execution_count": 5,
   "metadata": {},
   "outputs": [
    {
     "name": "stdout",
     "output_type": "stream",
     "text": [
      "1.13.0\n"
     ]
    }
   ],
   "source": [
    "import numpy as np\n",
    "import torch\n",
    "print(torch.__version__)\n",
    "\n",
    "import torch.nn as nn\n",
    "import torch.nn.functional as F\n",
    "import torch.optim as optim\n",
    "#from torchinfo import summary\n",
    "import sys\n",
    "import netCDF4 as nc\n",
    "#from prettytable import PrettyTable\n",
    "from count_parameters import count_parameters\n",
    "import hdf5storage\n",
    "import pickle"
   ]
  },
  {
   "attachments": {},
   "cell_type": "markdown",
   "metadata": {},
   "source": [
    "## Notes to remember from training "
   ]
  },
  {
   "cell_type": "code",
   "execution_count": 6,
   "metadata": {},
   "outputs": [],
   "source": [
    "input_size = 512\n",
    "output_size = 512\n",
    "hidden_layer_size = 1000"
   ]
  },
  {
   "attachments": {},
   "cell_type": "markdown",
   "metadata": {},
   "source": [
    "# Defining Integrator"
   ]
  },
  {
   "cell_type": "code",
   "execution_count": 7,
   "metadata": {},
   "outputs": [],
   "source": [
    "def RK4step(net,input_batch):\n",
    " output_1 = net(input_batch.cuda())\n",
    " output_2 = net(input_batch.cuda()+0.5*output_1)\n",
    " output_3 = net(input_batch.cuda()+0.5*output_2)\n",
    " output_4 = net(input_batch.cuda()+output_3)\n",
    "\n",
    " return input_batch.cuda() + time_step*(output_1+2*output_2+2*output_3+output_4)/6\n",
    "\n",
    "\n",
    "def Eulerstep(net,input_batch):\n",
    " output_1 = net(input_batch.cuda())\n",
    " return input_batch.cuda() + time_step*(output_1) \n",
    "  \n",
    "\n",
    "def directstep(net,input_batch):\n",
    "  output_1 = net(input_batch.cuda())\n",
    "  return output_1"
   ]
  },
  {
   "attachments": {},
   "cell_type": "markdown",
   "metadata": {},
   "source": [
    "# FNO architecture"
   ]
  },
  {
   "cell_type": "code",
   "execution_count": 8,
   "metadata": {},
   "outputs": [],
   "source": [
    "################################################################\n",
    "#  1d Fourier Integral Operator\n",
    "################################################################\n",
    "class SpectralConv1d(nn.Module):\n",
    "    def __init__(self, in_channels: int, out_channels: int, modes: int):\n",
    "        super(SpectralConv1d, self).__init__()\n",
    "        \"\"\"\n",
    "        Initializes the 1D Fourier layer. It does FFT, linear transform, and Inverse FFT.\n",
    "        Args:\n",
    "            in_channels (int): input channels to the FNO layer\n",
    "            out_channels (int): output channels of the FNO layer\n",
    "            modes (int): number of Fourier modes to multiply, at most floor(N/2) + 1\n",
    "        \"\"\"\n",
    "        self.in_channels = in_channels\n",
    "        self.out_channels = out_channels\n",
    "        self.modes = modes\n",
    "        self.scale = (1 / (in_channels*out_channels))\n",
    "        self.weights = nn.Parameter(self.scale * torch.rand(in_channels, out_channels, self.modes, dtype=torch.cfloat))\n",
    "\n",
    "    # Complex multiplication\n",
    "    def compl_mul1d(self, input, weights):\n",
    "        \"\"\"\n",
    "        Complex multiplication of the Fourier modes.\n",
    "        [batch, in_channels, x], [in_channel, out_channels, x] -> [batch, out_channels, x]\n",
    "            Args:\n",
    "                input (torch.Tensor): input tensor of size [batch, in_channels, x]\n",
    "                weights (torch.Tensor): weight tensor of size [in_channels, out_channels, x]\n",
    "            Returns:\n",
    "                torch.Tensor: output tensor with shape [batch, out_channels, x]\n",
    "        \"\"\"\n",
    "        return torch.einsum(\"bix,iox->box\", input, weights)\n",
    "\n",
    "    def forward(self, x: torch.Tensor) -> torch.Tensor:\n",
    "        \"\"\"\n",
    "        Fourier transformation, multiplication of relevant Fourier modes, backtransformation\n",
    "        Args:\n",
    "            x (torch.Tensor): input to forward pass os shape [batch, in_channels, x]\n",
    "        Returns:\n",
    "            torch.Tensor: output of size [batch, out_channels, x]\n",
    "        \"\"\"\n",
    "        batchsize = x.shape[0]\n",
    "        # Fourier transformation\n",
    "        x_ft = torch.fft.rfft(x)\n",
    "\n",
    "        # Multiply relevant Fourier modes\n",
    "        out_ft = torch.zeros(batchsize, self.out_channels, x.size(-1)//2 + 1,  device=x.device, dtype=torch.cfloat)\n",
    "        out_ft[:, :, :self.modes] = self.compl_mul1d(x_ft[:, :, :self.modes], self.weights)\n",
    "\n",
    "        #Return to physical space\n",
    "        x = torch.fft.irfft(out_ft, n=x.size(-1))\n",
    "        return x\n",
    "\n",
    "class FNO1d(nn.Module):\n",
    "    pass\n",
    "class FNO1d(nn.Module):\n",
    "    def __init__(self, modes, width, time_future, time_history):\n",
    "        super(FNO1d, self).__init__()\n",
    "\n",
    "        \"\"\"\n",
    "        The overall network. It contains 4 layers of the Fourier layer.\n",
    "        1. Lift the input to the desire channel dimension by self.fc0 .\n",
    "        2. 4 layers of the integral operators u' = (W + K)(u).\n",
    "            W defined by self.w; K defined by self.conv .\n",
    "        3. Project from the channel space to the output space by self.fc1 and self.fc2 .\n",
    "\n",
    "        input: a driving function observed at T timesteps + 1 locations (u(1, x), ..., u(T, x),  x).\n",
    "        input shape: (batchsize, x=s, c=2)\n",
    "        output: the solution of a later timestep\n",
    "        output shape: (batchsize, x=s, c=1)\n",
    "        \"\"\"\n",
    "        self.modes = modes\n",
    "        self.width = width\n",
    "        self.time_future = time_future\n",
    "        self.time_history = time_history\n",
    "        self.fc0 = nn.Linear(self.time_history+1, self.width)\n",
    "\n",
    "        self.conv0 = SpectralConv1d(self.width, self.width, self.modes)\n",
    "        self.conv1 = SpectralConv1d(self.width, self.width, self.modes)\n",
    "        self.conv2 = SpectralConv1d(self.width, self.width, self.modes)\n",
    "        self.conv3 = SpectralConv1d(self.width, self.width, self.modes)\n",
    "        self.w0 = nn.Conv1d(self.width, self.width, 1)\n",
    "        self.w1 = nn.Conv1d(self.width, self.width, 1)\n",
    "        self.w2 = nn.Conv1d(self.width, self.width, 1)\n",
    "        self.w3 = nn.Conv1d(self.width, self.width, 1)\n",
    "\n",
    "        self.fc1 = nn.Linear(self.width, 128)\n",
    "        self.fc2 = nn.Linear(128, self.time_future)\n",
    "\n",
    "    def forward(self, u):\n",
    "        grid = self.get_grid(u.shape, u.device)\n",
    "        print(grid.shape)\n",
    "        x = torch.cat((u, grid), dim=-1)\n",
    "        x = self.fc0(x)\n",
    "        x = x.permute(0, 2, 1)\n",
    "\n",
    "        x1 = self.conv0(x)\n",
    "        x2 = self.w0(x)\n",
    "        x = x1 + x2\n",
    "        x = F.gelu(x)\n",
    "\n",
    "        x1 = self.conv1(x)\n",
    "        x2 = self.w1(x)\n",
    "        x = x1 + x2\n",
    "        x = F.gelu(x)\n",
    "\n",
    "        x1 = self.conv2(x)\n",
    "        x2 = self.w2(x)\n",
    "        x = x1 + x2\n",
    "        x = F.gelu(x)\n",
    "\n",
    "        x1 = self.conv3(x)\n",
    "        x2 = self.w3(x)\n",
    "        x = x1 + x2\n",
    "\n",
    "        x = x.permute(0, 2, 1)\n",
    "        x = self.fc1(x)\n",
    "        x = F.gelu(x)\n",
    "        x = self.fc2(x)\n",
    "        return x\n",
    "\n",
    "    def get_grid(self, shape, device):\n",
    "        batchsize, size_x = shape[0], shape[1]\n",
    "        gridx = torch.tensor(np.linspace(0, 1, size_x), dtype=torch.float)\n",
    "        gridx = gridx.reshape(1, size_x, 1).repeat([batchsize, 1, 1])\n",
    "        return gridx.to(device)\n"
   ]
  },
  {
   "attachments": {},
   "cell_type": "markdown",
   "metadata": {},
   "source": [
    "# Model Parameter"
   ]
  },
  {
   "cell_type": "code",
   "execution_count": 9,
   "metadata": {},
   "outputs": [
    {
     "name": "stdout",
     "output_type": "stream",
     "text": [
      "+---------------+------------+\n",
      "|    Modules    | Parameters |\n",
      "+---------------+------------+\n",
      "|   fc0.weight  |     2      |\n",
      "|    fc0.bias   |     1      |\n",
      "| conv0.weights |    256     |\n",
      "| conv1.weights |    256     |\n",
      "| conv2.weights |    256     |\n",
      "| conv3.weights |    256     |\n",
      "|   w0.weight   |     1      |\n",
      "|    w0.bias    |     1      |\n",
      "|   w1.weight   |     1      |\n",
      "|    w1.bias    |     1      |\n",
      "|   w2.weight   |     1      |\n",
      "|    w2.bias    |     1      |\n",
      "|   w3.weight   |     1      |\n",
      "|    w3.bias    |     1      |\n",
      "|   fc1.weight  |    128     |\n",
      "|    fc1.bias   |    128     |\n",
      "|   fc2.weight  |    128     |\n",
      "|    fc2.bias   |     1      |\n",
      "+---------------+------------+\n",
      "Total Trainable Params: 1,420\n"
     ]
    }
   ],
   "source": [
    "time_history = 1 #time steps to be considered as input to the solver\n",
    "time_future = 1 #time steps to be considered as output of the solver\n",
    "device = 'cuda'  #change to cpu of no cuda available\n",
    "\n",
    "#Model parameters\n",
    "modes = 256 # number of Fourier modes to multiply\n",
    "width = 1 # input and output channels to the FNO layer\n",
    "\n",
    "num_epochs = 2 #set to one so faster computation, in principle 20 is best\n",
    "learning_rate = 0.0001\n",
    "lr_decay = 0.4\n",
    "num_workers = 0\n",
    "\n",
    "mynet = FNO1d(modes, width, time_future, time_history).cuda()\n",
    "count_parameters(mynet)\n",
    "mynet.cuda()\n",
    "epochs = 60\n",
    "\n",
    "loss = nn.MSELoss()\n",
    "#use two optimizers.  learing rates seem to work.\n",
    "\n",
    "optimizer = optim.AdamW(mynet.parameters(), lr=learning_rate)\n",
    "scheduler = optim.lr_scheduler.MultiStepLR(optimizer, milestones=[0, 5, 10, 15], gamma=lr_decay)\n",
    "\n",
    "batch_size=100"
   ]
  },
  {
   "attachments": {},
   "cell_type": "markdown",
   "metadata": {},
   "source": [
    "## Training Loop"
   ]
  },
  {
   "cell_type": "code",
   "execution_count": 10,
   "metadata": {},
   "outputs": [
    {
     "name": "stdout",
     "output_type": "stream",
     "text": [
      "torch.Size([50, 71, 1])\n"
     ]
    },
    {
     "ename": "RuntimeError",
     "evalue": "Tensors must have same number of dimensions: got 2 and 3",
     "output_type": "error",
     "traceback": [
      "\u001b[0;31m---------------------------------------------------------------------------\u001b[0m",
      "\u001b[0;31mRuntimeError\u001b[0m                              Traceback (most recent call last)",
      "Cell \u001b[0;32mIn[10], line 12\u001b[0m\n\u001b[1;32m      9\u001b[0m labels_train \u001b[39m=\u001b[39m labels_train\u001b[39m.\u001b[39mto(device\u001b[39m=\u001b[39mdevice, dtype \u001b[39m=\u001b[39m torch\u001b[39m.\u001b[39mfloat32)\n\u001b[1;32m     11\u001b[0m \u001b[39m# Forward pass train\u001b[39;00m\n\u001b[0;32m---> 12\u001b[0m model_output \u001b[39m=\u001b[39m directstep(mynet,inputs_train)\n\u001b[1;32m     13\u001b[0m train_loss \u001b[39m=\u001b[39m loss(model_output,labels_train)\n\u001b[1;32m     15\u001b[0m \u001b[39m# Backward and optimize\u001b[39;00m\n",
      "Cell \u001b[0;32mIn[7], line 16\u001b[0m, in \u001b[0;36mdirectstep\u001b[0;34m(net, input_batch)\u001b[0m\n\u001b[1;32m     15\u001b[0m \u001b[39mdef\u001b[39;00m \u001b[39mdirectstep\u001b[39m(net,input_batch):\n\u001b[0;32m---> 16\u001b[0m   output_1 \u001b[39m=\u001b[39m net(input_batch\u001b[39m.\u001b[39;49mcuda())\n\u001b[1;32m     17\u001b[0m   \u001b[39mreturn\u001b[39;00m output_1\n",
      "File \u001b[0;32m~/anaconda3/envs/torch_gpu/lib/python3.10/site-packages/torch/nn/modules/module.py:1190\u001b[0m, in \u001b[0;36mModule._call_impl\u001b[0;34m(self, *input, **kwargs)\u001b[0m\n\u001b[1;32m   1186\u001b[0m \u001b[39m# If we don't have any hooks, we want to skip the rest of the logic in\u001b[39;00m\n\u001b[1;32m   1187\u001b[0m \u001b[39m# this function, and just call forward.\u001b[39;00m\n\u001b[1;32m   1188\u001b[0m \u001b[39mif\u001b[39;00m \u001b[39mnot\u001b[39;00m (\u001b[39mself\u001b[39m\u001b[39m.\u001b[39m_backward_hooks \u001b[39mor\u001b[39;00m \u001b[39mself\u001b[39m\u001b[39m.\u001b[39m_forward_hooks \u001b[39mor\u001b[39;00m \u001b[39mself\u001b[39m\u001b[39m.\u001b[39m_forward_pre_hooks \u001b[39mor\u001b[39;00m _global_backward_hooks\n\u001b[1;32m   1189\u001b[0m         \u001b[39mor\u001b[39;00m _global_forward_hooks \u001b[39mor\u001b[39;00m _global_forward_pre_hooks):\n\u001b[0;32m-> 1190\u001b[0m     \u001b[39mreturn\u001b[39;00m forward_call(\u001b[39m*\u001b[39;49m\u001b[39minput\u001b[39;49m, \u001b[39m*\u001b[39;49m\u001b[39m*\u001b[39;49mkwargs)\n\u001b[1;32m   1191\u001b[0m \u001b[39m# Do not call functions when jit is used\u001b[39;00m\n\u001b[1;32m   1192\u001b[0m full_backward_hooks, non_full_backward_hooks \u001b[39m=\u001b[39m [], []\n",
      "Cell \u001b[0;32mIn[8], line 92\u001b[0m, in \u001b[0;36mFNO1d.forward\u001b[0;34m(self, u)\u001b[0m\n\u001b[1;32m     90\u001b[0m grid \u001b[39m=\u001b[39m \u001b[39mself\u001b[39m\u001b[39m.\u001b[39mget_grid(u\u001b[39m.\u001b[39mshape, u\u001b[39m.\u001b[39mdevice)\n\u001b[1;32m     91\u001b[0m \u001b[39mprint\u001b[39m(grid\u001b[39m.\u001b[39mshape)\n\u001b[0;32m---> 92\u001b[0m x \u001b[39m=\u001b[39m torch\u001b[39m.\u001b[39;49mcat((u, grid), dim\u001b[39m=\u001b[39;49m\u001b[39m-\u001b[39;49m\u001b[39m1\u001b[39;49m)\n\u001b[1;32m     93\u001b[0m x \u001b[39m=\u001b[39m \u001b[39mself\u001b[39m\u001b[39m.\u001b[39mfc0(x)\n\u001b[1;32m     94\u001b[0m x \u001b[39m=\u001b[39m x\u001b[39m.\u001b[39mpermute(\u001b[39m0\u001b[39m, \u001b[39m2\u001b[39m, \u001b[39m1\u001b[39m)\n",
      "\u001b[0;31mRuntimeError\u001b[0m: Tensors must have same number of dimensions: got 2 and 3"
     ]
    }
   ],
   "source": [
    "for epoch in range(num_epochs):\n",
    "    \n",
    "    # Training Data Loop\n",
    "    for i, data_train in enumerate(train_dataloader):\n",
    "        inputs_train, labels_train = data_train[0], data_train[1]\n",
    "        \n",
    "        # Move tensors to the configured device\n",
    "        inputs_train = inputs_train.to(device=device, dtype = torch.float32)\n",
    "        labels_train = labels_train.to(device=device, dtype = torch.float32)\n",
    "\n",
    "        # Forward pass train\n",
    "        model_output = directstep(mynet,inputs_train)\n",
    "        train_loss = loss(model_output,labels_train)\n",
    "\n",
    "        # Backward and optimize\n",
    "        optimizer.zero_grad()\n",
    "        loss.backward(retrain_graph=True)\n",
    "        optimizer.step()    \n",
    "    del inputs_train, labels_train, model_output\n",
    "    \n",
    "    # Test Data Loop\n",
    "    for i, data_test in enumerate(test_dataloader):\n",
    "        inputs_test, labels_test = data_test[0], data_test[1]\n",
    "\n",
    "        # Move tensors to the configured device\n",
    "        inputs_test = inputs_test.to(device=device, dtype = torch.float32)\n",
    "        labels_test = labels_test.to(device=device, dtype = torch.float32)\n",
    "\n",
    "        # Forward pass test\n",
    "        model_output_test = directstep(mynet, inputs_test)\n",
    "        test_loss = loss(model_output_test, labels_test)\n",
    "        \n",
    "        # Check if the model is improving\n",
    "        if test_loss < best_loss:\n",
    "            best_loss = test_loss\n",
    "            torch.save(mynet.state_dict(), 'best_model.pt')\n",
    "    \n",
    "            \n",
    "    del inputs_test, labels_test, model_output_test\n",
    "    # Print the progress in files\n",
    "    if epoch % 10 == 0:\n",
    "        print('Epoch [{}/{}], Step [{}/{}], Loss: {:.4f}'\n",
    "            .format(epoch+1, num_epochs, i+1, len(train_dataloader), train_loss.item()))\n",
    "            \n",
    "    \n",
    "# Save the model checkpoint\n",
    "torch.save(mynet.state_dict(), 'model.pt')"
   ]
  },
  {
   "cell_type": "code",
   "execution_count": null,
   "metadata": {},
   "outputs": [],
   "source": [
    "M=20000\n",
    "pred = np.zeros([M,np.size(label_test,1)])\n",
    "for k in range(0,M):\n",
    " \n",
    "    if (k==0):\n",
    "\n",
    "        out = RK4step(mynet,torch.reshape(input_test_torch[0,:],(1,input_size,1)))\n",
    "        pred [k,:] = torch.reshape(out,(1,input_size)).detach().cpu().numpy()\n",
    "\n",
    "    else:\n",
    "\n",
    "        out = RK4step(mynet,torch.reshape(torch.from_numpy(pred[k-1,:]),(1,input_size,1)).float().cuda())\n",
    "\n",
    "        pred [k,:] = torch.reshape(out,(1,input_size)).detach().cpu().numpy()\n",
    "\n",
    "matfiledata = {}\n",
    "matfiledata[u'prediction'] = pred\n",
    "matfiledata[u'Truth'] = label_test \n",
    "hdf5storage.write(matfiledata, '.', path_outputs+'predicted_FNO_KS_RK4step_lead'+str(lead)+'.mat', matlab_compatible=True)\n",
    "\n",
    "print('Saved Predictions')\n",
    "\n",
    "        "
   ]
  },
  {
   "cell_type": "code",
   "execution_count": 7,
   "metadata": {},
   "outputs": [
    {
     "name": "stdout",
     "output_type": "stream",
     "text": [
      "dict_keys(['pred_val', 'true_val'])\n",
      "(7200, 71)\n",
      "(7200, 71)\n"
     ]
    },
    {
     "data": {
      "image/png": "[encoded data removed]",
      "text/plain": [
       "<Figure size 2000x1000 with 2 Axes>"
      ]
     },
     "metadata": {},
     "output_type": "display_data"
    },
    {
     "name": "stdout",
     "output_type": "stream",
     "text": [
      "[1.5842815e-08 1.5881159e-08 1.5875916e-08 1.5856219e-08 1.5835404e-08\n",
      " 1.5808759e-08 1.5780889e-08 1.5772949e-08 1.5765492e-08 1.5760675e-08\n",
      " 1.5765862e-08 1.5773157e-08 1.5773722e-08 1.5787091e-08 1.5796495e-08\n",
      " 1.5814878e-08 1.5819062e-08 1.5829873e-08 1.5831555e-08 1.5838424e-08\n",
      " 1.5851656e-08 1.5858063e-08 1.5875951e-08 1.5883812e-08 1.5898955e-08\n",
      " 1.5907162e-08 1.5917891e-08 1.5921925e-08 1.5917742e-08 1.5906839e-08\n",
      " 1.5895198e-08 1.5892132e-08 1.5892201e-08 1.5892835e-08 1.5891729e-08\n",
      " 1.5895221e-08 1.5896720e-08 1.5900177e-08 1.5905295e-08 1.5904650e-08\n",
      " 1.5904384e-08 1.5903808e-08 1.5906114e-08 1.5908718e-08 1.5912303e-08\n",
      " 1.5919195e-08 1.5917315e-08 1.5917292e-08 1.5920495e-08 1.5917385e-08\n",
      " 1.5917315e-08 1.5915184e-08 1.5909214e-08 1.5900614e-08 1.5893423e-08\n",
      " 1.5886670e-08 1.5885091e-08 1.5884202e-08 1.5884272e-08 1.5882566e-08\n",
      " 1.5878360e-08 1.5877058e-08 1.5878429e-08 1.5883995e-08 1.5891395e-08\n",
      " 1.5896880e-08 1.5896166e-08 1.5889828e-08 1.5888883e-08 1.5904360e-08\n",
      " 1.5886567e-08]\n"
     ]
    }
   ],
   "source": [
    "\n",
    "# \n",
    "from netCDF4 import Dataset\n",
    "data = Dataset('pred_true_val.nc', 'r')\n",
    "print(data.variables.keys())\n",
    "pred = data.variables['pred_val'][:]\n",
    "true = data.variables['true_val'][:]\n",
    "\n",
    "print(pred.shape)\n",
    "print(true.shape)\n",
    "\n",
    "# Plotting\n",
    "import matplotlib.pyplot as plt\n",
    "import matplotlib.gridspec as gridspec\n",
    "import matplotlib as mpl\n",
    "\n",
    "mpl.rcParams['xtick.labelsize'] = 20\n",
    "mpl.rcParams['ytick.labelsize'] = 20\n",
    "mpl.rcParams['axes.labelsize'] = 20\n",
    "mpl.rcParams['axes.titlesize'] = 20\n",
    "mpl.rcParams['legend.fontsize'] = 20\n",
    "mpl.rcParams['figure.titlesize'] = 20\n",
    "\n",
    "time1 = 250\n",
    "time2 = 500\n",
    "fig = plt.figure(figsize=(20, 10))\n",
    "gs = gridspec.GridSpec(1, 2, width_ratios=[1, 1])\n",
    "ax1 = plt.subplot(gs[0])\n",
    "ax2 = plt.subplot(gs[1])\n",
    "# Plot pred and true together \n",
    "ax1.plot(pred[time1, :],range(pred.shape[1]), label='pred')\n",
    "ax1.plot(true[time1, :],range(true.shape[1]), label='true')\n",
    "ax1.legend()\n",
    "ax1.set_title('t = 0')\n",
    "ax1.set_xlabel('f')\n",
    "ax1.set_ylabel('Height (z)')\n",
    "\n",
    "ax2.plot(pred[time2, :],range(pred.shape[1]), label='pred')\n",
    "ax2.plot(true[time2, :],range(true.shape[1]), label='true')\n",
    "ax2.legend()\n",
    "ax2.set_title('t = 1')\n",
    "ax2.set_xlabel('f')\n",
    "ax2.set_ylabel('Height (z)')\n",
    "plt.show()\n",
    "\n",
    "# close the file\n",
    "data.close()\n",
    "\n",
    "print(pred[0,:])\n"
   ]
  }
 ],
 "metadata": {
  "kernelspec": {
   "display_name": "torch_gpu",
   "language": "python",
   "name": "python3"
  },
  "language_info": {
   "codemirror_mode": {
    "name": "ipython",
    "version": 3
   },
   "file_extension": ".py",
   "mimetype": "text/x-python",
   "name": "python",
   "nbconvert_exporter": "python",
   "pygments_lexer": "ipython3",
   "version": "3.10.6"
  },
  "orig_nbformat": 4
 },
 "nbformat": 4,
 "nbformat_minor": 2
}
